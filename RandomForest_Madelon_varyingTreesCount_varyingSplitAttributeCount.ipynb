{
 "cells": [
  {
   "cell_type": "code",
   "execution_count": 1,
   "id": "31021d76",
   "metadata": {},
   "outputs": [],
   "source": [
    "import pandas as pd"
   ]
  },
  {
   "cell_type": "code",
   "execution_count": 2,
   "id": "e0b9598a",
   "metadata": {},
   "outputs": [],
   "source": [
    "madelon_train_X = pd.read_table(\"C:\\\\Users\\\\sraba\\\\OneDrive\\\\Documents\\\\ML\\\\MADELON\\\\madelon_train.data\",header=None,\n",
    "                                sep=\" \")"
   ]
  },
  {
   "cell_type": "code",
   "execution_count": 3,
   "id": "a3181b6f",
   "metadata": {},
   "outputs": [
    {
     "data": {
      "text/html": [
       "<div>\n",
       "<style scoped>\n",
       "    .dataframe tbody tr th:only-of-type {\n",
       "        vertical-align: middle;\n",
       "    }\n",
       "\n",
       "    .dataframe tbody tr th {\n",
       "        vertical-align: top;\n",
       "    }\n",
       "\n",
       "    .dataframe thead th {\n",
       "        text-align: right;\n",
       "    }\n",
       "</style>\n",
       "<table border=\"1\" class=\"dataframe\">\n",
       "  <thead>\n",
       "    <tr style=\"text-align: right;\">\n",
       "      <th></th>\n",
       "      <th>0</th>\n",
       "      <th>1</th>\n",
       "      <th>2</th>\n",
       "      <th>3</th>\n",
       "      <th>4</th>\n",
       "      <th>5</th>\n",
       "      <th>6</th>\n",
       "      <th>7</th>\n",
       "      <th>8</th>\n",
       "      <th>9</th>\n",
       "      <th>...</th>\n",
       "      <th>491</th>\n",
       "      <th>492</th>\n",
       "      <th>493</th>\n",
       "      <th>494</th>\n",
       "      <th>495</th>\n",
       "      <th>496</th>\n",
       "      <th>497</th>\n",
       "      <th>498</th>\n",
       "      <th>499</th>\n",
       "      <th>500</th>\n",
       "    </tr>\n",
       "  </thead>\n",
       "  <tbody>\n",
       "    <tr>\n",
       "      <th>0</th>\n",
       "      <td>485.0</td>\n",
       "      <td>477.0</td>\n",
       "      <td>537.0</td>\n",
       "      <td>479.0</td>\n",
       "      <td>452.0</td>\n",
       "      <td>471.0</td>\n",
       "      <td>491.0</td>\n",
       "      <td>476.0</td>\n",
       "      <td>475.0</td>\n",
       "      <td>473.0</td>\n",
       "      <td>...</td>\n",
       "      <td>481.0</td>\n",
       "      <td>477.0</td>\n",
       "      <td>485.0</td>\n",
       "      <td>511.0</td>\n",
       "      <td>485.0</td>\n",
       "      <td>481.0</td>\n",
       "      <td>479.0</td>\n",
       "      <td>475.0</td>\n",
       "      <td>496.0</td>\n",
       "      <td>NaN</td>\n",
       "    </tr>\n",
       "    <tr>\n",
       "      <th>1</th>\n",
       "      <td>483.0</td>\n",
       "      <td>458.0</td>\n",
       "      <td>460.0</td>\n",
       "      <td>487.0</td>\n",
       "      <td>587.0</td>\n",
       "      <td>475.0</td>\n",
       "      <td>526.0</td>\n",
       "      <td>479.0</td>\n",
       "      <td>485.0</td>\n",
       "      <td>469.0</td>\n",
       "      <td>...</td>\n",
       "      <td>478.0</td>\n",
       "      <td>487.0</td>\n",
       "      <td>338.0</td>\n",
       "      <td>513.0</td>\n",
       "      <td>486.0</td>\n",
       "      <td>483.0</td>\n",
       "      <td>492.0</td>\n",
       "      <td>510.0</td>\n",
       "      <td>517.0</td>\n",
       "      <td>NaN</td>\n",
       "    </tr>\n",
       "    <tr>\n",
       "      <th>2</th>\n",
       "      <td>487.0</td>\n",
       "      <td>542.0</td>\n",
       "      <td>499.0</td>\n",
       "      <td>468.0</td>\n",
       "      <td>448.0</td>\n",
       "      <td>471.0</td>\n",
       "      <td>442.0</td>\n",
       "      <td>478.0</td>\n",
       "      <td>480.0</td>\n",
       "      <td>477.0</td>\n",
       "      <td>...</td>\n",
       "      <td>481.0</td>\n",
       "      <td>492.0</td>\n",
       "      <td>650.0</td>\n",
       "      <td>506.0</td>\n",
       "      <td>501.0</td>\n",
       "      <td>480.0</td>\n",
       "      <td>489.0</td>\n",
       "      <td>499.0</td>\n",
       "      <td>498.0</td>\n",
       "      <td>NaN</td>\n",
       "    </tr>\n",
       "    <tr>\n",
       "      <th>3</th>\n",
       "      <td>480.0</td>\n",
       "      <td>491.0</td>\n",
       "      <td>510.0</td>\n",
       "      <td>485.0</td>\n",
       "      <td>495.0</td>\n",
       "      <td>472.0</td>\n",
       "      <td>417.0</td>\n",
       "      <td>474.0</td>\n",
       "      <td>502.0</td>\n",
       "      <td>476.0</td>\n",
       "      <td>...</td>\n",
       "      <td>480.0</td>\n",
       "      <td>474.0</td>\n",
       "      <td>572.0</td>\n",
       "      <td>454.0</td>\n",
       "      <td>469.0</td>\n",
       "      <td>475.0</td>\n",
       "      <td>482.0</td>\n",
       "      <td>494.0</td>\n",
       "      <td>461.0</td>\n",
       "      <td>NaN</td>\n",
       "    </tr>\n",
       "    <tr>\n",
       "      <th>4</th>\n",
       "      <td>484.0</td>\n",
       "      <td>502.0</td>\n",
       "      <td>528.0</td>\n",
       "      <td>489.0</td>\n",
       "      <td>466.0</td>\n",
       "      <td>481.0</td>\n",
       "      <td>402.0</td>\n",
       "      <td>478.0</td>\n",
       "      <td>487.0</td>\n",
       "      <td>468.0</td>\n",
       "      <td>...</td>\n",
       "      <td>479.0</td>\n",
       "      <td>452.0</td>\n",
       "      <td>435.0</td>\n",
       "      <td>486.0</td>\n",
       "      <td>508.0</td>\n",
       "      <td>481.0</td>\n",
       "      <td>504.0</td>\n",
       "      <td>495.0</td>\n",
       "      <td>511.0</td>\n",
       "      <td>NaN</td>\n",
       "    </tr>\n",
       "    <tr>\n",
       "      <th>...</th>\n",
       "      <td>...</td>\n",
       "      <td>...</td>\n",
       "      <td>...</td>\n",
       "      <td>...</td>\n",
       "      <td>...</td>\n",
       "      <td>...</td>\n",
       "      <td>...</td>\n",
       "      <td>...</td>\n",
       "      <td>...</td>\n",
       "      <td>...</td>\n",
       "      <td>...</td>\n",
       "      <td>...</td>\n",
       "      <td>...</td>\n",
       "      <td>...</td>\n",
       "      <td>...</td>\n",
       "      <td>...</td>\n",
       "      <td>...</td>\n",
       "      <td>...</td>\n",
       "      <td>...</td>\n",
       "      <td>...</td>\n",
       "      <td>...</td>\n",
       "    </tr>\n",
       "    <tr>\n",
       "      <th>1995</th>\n",
       "      <td>490.0</td>\n",
       "      <td>505.0</td>\n",
       "      <td>503.0</td>\n",
       "      <td>474.0</td>\n",
       "      <td>463.0</td>\n",
       "      <td>461.0</td>\n",
       "      <td>519.0</td>\n",
       "      <td>476.0</td>\n",
       "      <td>518.0</td>\n",
       "      <td>467.0</td>\n",
       "      <td>...</td>\n",
       "      <td>479.0</td>\n",
       "      <td>449.0</td>\n",
       "      <td>588.0</td>\n",
       "      <td>499.0</td>\n",
       "      <td>506.0</td>\n",
       "      <td>475.0</td>\n",
       "      <td>463.0</td>\n",
       "      <td>507.0</td>\n",
       "      <td>501.0</td>\n",
       "      <td>NaN</td>\n",
       "    </tr>\n",
       "    <tr>\n",
       "      <th>1996</th>\n",
       "      <td>480.0</td>\n",
       "      <td>475.0</td>\n",
       "      <td>476.0</td>\n",
       "      <td>480.0</td>\n",
       "      <td>495.0</td>\n",
       "      <td>482.0</td>\n",
       "      <td>515.0</td>\n",
       "      <td>479.0</td>\n",
       "      <td>480.0</td>\n",
       "      <td>484.0</td>\n",
       "      <td>...</td>\n",
       "      <td>474.0</td>\n",
       "      <td>473.0</td>\n",
       "      <td>424.0</td>\n",
       "      <td>454.0</td>\n",
       "      <td>570.0</td>\n",
       "      <td>476.0</td>\n",
       "      <td>493.0</td>\n",
       "      <td>465.0</td>\n",
       "      <td>485.0</td>\n",
       "      <td>NaN</td>\n",
       "    </tr>\n",
       "    <tr>\n",
       "      <th>1997</th>\n",
       "      <td>480.0</td>\n",
       "      <td>517.0</td>\n",
       "      <td>631.0</td>\n",
       "      <td>470.0</td>\n",
       "      <td>485.0</td>\n",
       "      <td>474.0</td>\n",
       "      <td>535.0</td>\n",
       "      <td>476.0</td>\n",
       "      <td>493.0</td>\n",
       "      <td>466.0</td>\n",
       "      <td>...</td>\n",
       "      <td>483.0</td>\n",
       "      <td>479.0</td>\n",
       "      <td>687.0</td>\n",
       "      <td>488.0</td>\n",
       "      <td>488.0</td>\n",
       "      <td>483.0</td>\n",
       "      <td>500.0</td>\n",
       "      <td>523.0</td>\n",
       "      <td>481.0</td>\n",
       "      <td>NaN</td>\n",
       "    </tr>\n",
       "    <tr>\n",
       "      <th>1998</th>\n",
       "      <td>484.0</td>\n",
       "      <td>481.0</td>\n",
       "      <td>505.0</td>\n",
       "      <td>478.0</td>\n",
       "      <td>542.0</td>\n",
       "      <td>477.0</td>\n",
       "      <td>518.0</td>\n",
       "      <td>477.0</td>\n",
       "      <td>510.0</td>\n",
       "      <td>472.0</td>\n",
       "      <td>...</td>\n",
       "      <td>483.0</td>\n",
       "      <td>526.0</td>\n",
       "      <td>750.0</td>\n",
       "      <td>486.0</td>\n",
       "      <td>529.0</td>\n",
       "      <td>484.0</td>\n",
       "      <td>473.0</td>\n",
       "      <td>527.0</td>\n",
       "      <td>485.0</td>\n",
       "      <td>NaN</td>\n",
       "    </tr>\n",
       "    <tr>\n",
       "      <th>1999</th>\n",
       "      <td>474.0</td>\n",
       "      <td>493.0</td>\n",
       "      <td>469.0</td>\n",
       "      <td>486.0</td>\n",
       "      <td>521.0</td>\n",
       "      <td>475.0</td>\n",
       "      <td>494.0</td>\n",
       "      <td>479.0</td>\n",
       "      <td>481.0</td>\n",
       "      <td>473.0</td>\n",
       "      <td>...</td>\n",
       "      <td>476.0</td>\n",
       "      <td>508.0</td>\n",
       "      <td>449.0</td>\n",
       "      <td>463.0</td>\n",
       "      <td>533.0</td>\n",
       "      <td>481.0</td>\n",
       "      <td>489.0</td>\n",
       "      <td>516.0</td>\n",
       "      <td>516.0</td>\n",
       "      <td>NaN</td>\n",
       "    </tr>\n",
       "  </tbody>\n",
       "</table>\n",
       "<p>2000 rows × 501 columns</p>\n",
       "</div>"
      ],
      "text/plain": [
       "        0      1      2      3      4      5      6      7      8      9    \\\n",
       "0     485.0  477.0  537.0  479.0  452.0  471.0  491.0  476.0  475.0  473.0   \n",
       "1     483.0  458.0  460.0  487.0  587.0  475.0  526.0  479.0  485.0  469.0   \n",
       "2     487.0  542.0  499.0  468.0  448.0  471.0  442.0  478.0  480.0  477.0   \n",
       "3     480.0  491.0  510.0  485.0  495.0  472.0  417.0  474.0  502.0  476.0   \n",
       "4     484.0  502.0  528.0  489.0  466.0  481.0  402.0  478.0  487.0  468.0   \n",
       "...     ...    ...    ...    ...    ...    ...    ...    ...    ...    ...   \n",
       "1995  490.0  505.0  503.0  474.0  463.0  461.0  519.0  476.0  518.0  467.0   \n",
       "1996  480.0  475.0  476.0  480.0  495.0  482.0  515.0  479.0  480.0  484.0   \n",
       "1997  480.0  517.0  631.0  470.0  485.0  474.0  535.0  476.0  493.0  466.0   \n",
       "1998  484.0  481.0  505.0  478.0  542.0  477.0  518.0  477.0  510.0  472.0   \n",
       "1999  474.0  493.0  469.0  486.0  521.0  475.0  494.0  479.0  481.0  473.0   \n",
       "\n",
       "      ...    491    492    493    494    495    496    497    498    499  500  \n",
       "0     ...  481.0  477.0  485.0  511.0  485.0  481.0  479.0  475.0  496.0  NaN  \n",
       "1     ...  478.0  487.0  338.0  513.0  486.0  483.0  492.0  510.0  517.0  NaN  \n",
       "2     ...  481.0  492.0  650.0  506.0  501.0  480.0  489.0  499.0  498.0  NaN  \n",
       "3     ...  480.0  474.0  572.0  454.0  469.0  475.0  482.0  494.0  461.0  NaN  \n",
       "4     ...  479.0  452.0  435.0  486.0  508.0  481.0  504.0  495.0  511.0  NaN  \n",
       "...   ...    ...    ...    ...    ...    ...    ...    ...    ...    ...  ...  \n",
       "1995  ...  479.0  449.0  588.0  499.0  506.0  475.0  463.0  507.0  501.0  NaN  \n",
       "1996  ...  474.0  473.0  424.0  454.0  570.0  476.0  493.0  465.0  485.0  NaN  \n",
       "1997  ...  483.0  479.0  687.0  488.0  488.0  483.0  500.0  523.0  481.0  NaN  \n",
       "1998  ...  483.0  526.0  750.0  486.0  529.0  484.0  473.0  527.0  485.0  NaN  \n",
       "1999  ...  476.0  508.0  449.0  463.0  533.0  481.0  489.0  516.0  516.0  NaN  \n",
       "\n",
       "[2000 rows x 501 columns]"
      ]
     },
     "execution_count": 3,
     "metadata": {},
     "output_type": "execute_result"
    }
   ],
   "source": [
    "madelon_train_X.astype(float)"
   ]
  },
  {
   "cell_type": "code",
   "execution_count": 4,
   "id": "653146ba",
   "metadata": {},
   "outputs": [],
   "source": [
    "del madelon_train_X[madelon_train_X.columns[-1]]"
   ]
  },
  {
   "cell_type": "code",
   "execution_count": 5,
   "id": "67186446",
   "metadata": {},
   "outputs": [],
   "source": [
    "madelon_train_Y = pd.read_table(\"C:\\\\Users\\\\sraba\\\\OneDrive\\\\Documents\\\\ML\\\\MADELON\\\\madelon_train.labels\",header=None,\n",
    "                                sep=\" \")"
   ]
  },
  {
   "cell_type": "code",
   "execution_count": 6,
   "id": "e50c6982",
   "metadata": {},
   "outputs": [],
   "source": [
    "madelon_valid_X = pd.read_table(\"C:\\\\Users\\\\sraba\\\\OneDrive\\\\Documents\\\\ML\\\\MADELON\\\\madelon_valid.data\",header=None,\n",
    "                               sep=\" \")"
   ]
  },
  {
   "cell_type": "code",
   "execution_count": 7,
   "id": "2821956b",
   "metadata": {},
   "outputs": [
    {
     "data": {
      "text/html": [
       "<div>\n",
       "<style scoped>\n",
       "    .dataframe tbody tr th:only-of-type {\n",
       "        vertical-align: middle;\n",
       "    }\n",
       "\n",
       "    .dataframe tbody tr th {\n",
       "        vertical-align: top;\n",
       "    }\n",
       "\n",
       "    .dataframe thead th {\n",
       "        text-align: right;\n",
       "    }\n",
       "</style>\n",
       "<table border=\"1\" class=\"dataframe\">\n",
       "  <thead>\n",
       "    <tr style=\"text-align: right;\">\n",
       "      <th></th>\n",
       "      <th>0</th>\n",
       "      <th>1</th>\n",
       "      <th>2</th>\n",
       "      <th>3</th>\n",
       "      <th>4</th>\n",
       "      <th>5</th>\n",
       "      <th>6</th>\n",
       "      <th>7</th>\n",
       "      <th>8</th>\n",
       "      <th>9</th>\n",
       "      <th>...</th>\n",
       "      <th>491</th>\n",
       "      <th>492</th>\n",
       "      <th>493</th>\n",
       "      <th>494</th>\n",
       "      <th>495</th>\n",
       "      <th>496</th>\n",
       "      <th>497</th>\n",
       "      <th>498</th>\n",
       "      <th>499</th>\n",
       "      <th>500</th>\n",
       "    </tr>\n",
       "  </thead>\n",
       "  <tbody>\n",
       "    <tr>\n",
       "      <th>0</th>\n",
       "      <td>483.0</td>\n",
       "      <td>454.0</td>\n",
       "      <td>513.0</td>\n",
       "      <td>495.0</td>\n",
       "      <td>523.0</td>\n",
       "      <td>469.0</td>\n",
       "      <td>453.0</td>\n",
       "      <td>477.0</td>\n",
       "      <td>506.0</td>\n",
       "      <td>479.0</td>\n",
       "      <td>...</td>\n",
       "      <td>480.0</td>\n",
       "      <td>543.0</td>\n",
       "      <td>259.0</td>\n",
       "      <td>413.0</td>\n",
       "      <td>520.0</td>\n",
       "      <td>485.0</td>\n",
       "      <td>498.0</td>\n",
       "      <td>523.0</td>\n",
       "      <td>510.0</td>\n",
       "      <td>NaN</td>\n",
       "    </tr>\n",
       "    <tr>\n",
       "      <th>1</th>\n",
       "      <td>485.0</td>\n",
       "      <td>508.0</td>\n",
       "      <td>493.0</td>\n",
       "      <td>487.0</td>\n",
       "      <td>478.0</td>\n",
       "      <td>472.0</td>\n",
       "      <td>504.0</td>\n",
       "      <td>476.0</td>\n",
       "      <td>479.0</td>\n",
       "      <td>475.0</td>\n",
       "      <td>...</td>\n",
       "      <td>480.0</td>\n",
       "      <td>535.0</td>\n",
       "      <td>534.0</td>\n",
       "      <td>514.0</td>\n",
       "      <td>452.0</td>\n",
       "      <td>484.0</td>\n",
       "      <td>495.0</td>\n",
       "      <td>548.0</td>\n",
       "      <td>477.0</td>\n",
       "      <td>NaN</td>\n",
       "    </tr>\n",
       "    <tr>\n",
       "      <th>2</th>\n",
       "      <td>483.0</td>\n",
       "      <td>521.0</td>\n",
       "      <td>507.0</td>\n",
       "      <td>475.0</td>\n",
       "      <td>493.0</td>\n",
       "      <td>486.0</td>\n",
       "      <td>421.0</td>\n",
       "      <td>475.0</td>\n",
       "      <td>496.0</td>\n",
       "      <td>483.0</td>\n",
       "      <td>...</td>\n",
       "      <td>476.0</td>\n",
       "      <td>498.0</td>\n",
       "      <td>495.0</td>\n",
       "      <td>508.0</td>\n",
       "      <td>528.0</td>\n",
       "      <td>486.0</td>\n",
       "      <td>465.0</td>\n",
       "      <td>508.0</td>\n",
       "      <td>503.0</td>\n",
       "      <td>NaN</td>\n",
       "    </tr>\n",
       "    <tr>\n",
       "      <th>3</th>\n",
       "      <td>474.0</td>\n",
       "      <td>504.0</td>\n",
       "      <td>576.0</td>\n",
       "      <td>480.0</td>\n",
       "      <td>553.0</td>\n",
       "      <td>483.0</td>\n",
       "      <td>524.0</td>\n",
       "      <td>478.0</td>\n",
       "      <td>483.0</td>\n",
       "      <td>483.0</td>\n",
       "      <td>...</td>\n",
       "      <td>475.0</td>\n",
       "      <td>470.0</td>\n",
       "      <td>463.0</td>\n",
       "      <td>509.0</td>\n",
       "      <td>525.0</td>\n",
       "      <td>479.0</td>\n",
       "      <td>467.0</td>\n",
       "      <td>552.0</td>\n",
       "      <td>517.0</td>\n",
       "      <td>NaN</td>\n",
       "    </tr>\n",
       "    <tr>\n",
       "      <th>4</th>\n",
       "      <td>495.0</td>\n",
       "      <td>474.0</td>\n",
       "      <td>523.0</td>\n",
       "      <td>479.0</td>\n",
       "      <td>495.0</td>\n",
       "      <td>488.0</td>\n",
       "      <td>485.0</td>\n",
       "      <td>476.0</td>\n",
       "      <td>497.0</td>\n",
       "      <td>478.0</td>\n",
       "      <td>...</td>\n",
       "      <td>471.0</td>\n",
       "      <td>522.0</td>\n",
       "      <td>343.0</td>\n",
       "      <td>509.0</td>\n",
       "      <td>520.0</td>\n",
       "      <td>475.0</td>\n",
       "      <td>493.0</td>\n",
       "      <td>506.0</td>\n",
       "      <td>491.0</td>\n",
       "      <td>NaN</td>\n",
       "    </tr>\n",
       "    <tr>\n",
       "      <th>...</th>\n",
       "      <td>...</td>\n",
       "      <td>...</td>\n",
       "      <td>...</td>\n",
       "      <td>...</td>\n",
       "      <td>...</td>\n",
       "      <td>...</td>\n",
       "      <td>...</td>\n",
       "      <td>...</td>\n",
       "      <td>...</td>\n",
       "      <td>...</td>\n",
       "      <td>...</td>\n",
       "      <td>...</td>\n",
       "      <td>...</td>\n",
       "      <td>...</td>\n",
       "      <td>...</td>\n",
       "      <td>...</td>\n",
       "      <td>...</td>\n",
       "      <td>...</td>\n",
       "      <td>...</td>\n",
       "      <td>...</td>\n",
       "      <td>...</td>\n",
       "    </tr>\n",
       "    <tr>\n",
       "      <th>595</th>\n",
       "      <td>493.0</td>\n",
       "      <td>458.0</td>\n",
       "      <td>503.0</td>\n",
       "      <td>478.0</td>\n",
       "      <td>517.0</td>\n",
       "      <td>479.0</td>\n",
       "      <td>472.0</td>\n",
       "      <td>478.0</td>\n",
       "      <td>444.0</td>\n",
       "      <td>477.0</td>\n",
       "      <td>...</td>\n",
       "      <td>475.0</td>\n",
       "      <td>485.0</td>\n",
       "      <td>443.0</td>\n",
       "      <td>517.0</td>\n",
       "      <td>486.0</td>\n",
       "      <td>474.0</td>\n",
       "      <td>489.0</td>\n",
       "      <td>506.0</td>\n",
       "      <td>506.0</td>\n",
       "      <td>NaN</td>\n",
       "    </tr>\n",
       "    <tr>\n",
       "      <th>596</th>\n",
       "      <td>481.0</td>\n",
       "      <td>484.0</td>\n",
       "      <td>481.0</td>\n",
       "      <td>490.0</td>\n",
       "      <td>449.0</td>\n",
       "      <td>481.0</td>\n",
       "      <td>467.0</td>\n",
       "      <td>478.0</td>\n",
       "      <td>469.0</td>\n",
       "      <td>483.0</td>\n",
       "      <td>...</td>\n",
       "      <td>485.0</td>\n",
       "      <td>508.0</td>\n",
       "      <td>599.0</td>\n",
       "      <td>498.0</td>\n",
       "      <td>527.0</td>\n",
       "      <td>481.0</td>\n",
       "      <td>490.0</td>\n",
       "      <td>455.0</td>\n",
       "      <td>451.0</td>\n",
       "      <td>NaN</td>\n",
       "    </tr>\n",
       "    <tr>\n",
       "      <th>597</th>\n",
       "      <td>485.0</td>\n",
       "      <td>485.0</td>\n",
       "      <td>530.0</td>\n",
       "      <td>480.0</td>\n",
       "      <td>444.0</td>\n",
       "      <td>487.0</td>\n",
       "      <td>462.0</td>\n",
       "      <td>475.0</td>\n",
       "      <td>509.0</td>\n",
       "      <td>494.0</td>\n",
       "      <td>...</td>\n",
       "      <td>474.0</td>\n",
       "      <td>502.0</td>\n",
       "      <td>368.0</td>\n",
       "      <td>453.0</td>\n",
       "      <td>482.0</td>\n",
       "      <td>478.0</td>\n",
       "      <td>481.0</td>\n",
       "      <td>484.0</td>\n",
       "      <td>517.0</td>\n",
       "      <td>NaN</td>\n",
       "    </tr>\n",
       "    <tr>\n",
       "      <th>598</th>\n",
       "      <td>477.0</td>\n",
       "      <td>469.0</td>\n",
       "      <td>528.0</td>\n",
       "      <td>485.0</td>\n",
       "      <td>483.0</td>\n",
       "      <td>469.0</td>\n",
       "      <td>482.0</td>\n",
       "      <td>477.0</td>\n",
       "      <td>494.0</td>\n",
       "      <td>476.0</td>\n",
       "      <td>...</td>\n",
       "      <td>476.0</td>\n",
       "      <td>453.0</td>\n",
       "      <td>638.0</td>\n",
       "      <td>471.0</td>\n",
       "      <td>538.0</td>\n",
       "      <td>470.0</td>\n",
       "      <td>490.0</td>\n",
       "      <td>613.0</td>\n",
       "      <td>492.0</td>\n",
       "      <td>NaN</td>\n",
       "    </tr>\n",
       "    <tr>\n",
       "      <th>599</th>\n",
       "      <td>482.0</td>\n",
       "      <td>453.0</td>\n",
       "      <td>515.0</td>\n",
       "      <td>481.0</td>\n",
       "      <td>500.0</td>\n",
       "      <td>493.0</td>\n",
       "      <td>503.0</td>\n",
       "      <td>477.0</td>\n",
       "      <td>501.0</td>\n",
       "      <td>475.0</td>\n",
       "      <td>...</td>\n",
       "      <td>478.0</td>\n",
       "      <td>487.0</td>\n",
       "      <td>694.0</td>\n",
       "      <td>493.0</td>\n",
       "      <td>499.0</td>\n",
       "      <td>474.0</td>\n",
       "      <td>494.0</td>\n",
       "      <td>536.0</td>\n",
       "      <td>526.0</td>\n",
       "      <td>NaN</td>\n",
       "    </tr>\n",
       "  </tbody>\n",
       "</table>\n",
       "<p>600 rows × 501 columns</p>\n",
       "</div>"
      ],
      "text/plain": [
       "       0      1      2      3      4      5      6      7      8      9    \\\n",
       "0    483.0  454.0  513.0  495.0  523.0  469.0  453.0  477.0  506.0  479.0   \n",
       "1    485.0  508.0  493.0  487.0  478.0  472.0  504.0  476.0  479.0  475.0   \n",
       "2    483.0  521.0  507.0  475.0  493.0  486.0  421.0  475.0  496.0  483.0   \n",
       "3    474.0  504.0  576.0  480.0  553.0  483.0  524.0  478.0  483.0  483.0   \n",
       "4    495.0  474.0  523.0  479.0  495.0  488.0  485.0  476.0  497.0  478.0   \n",
       "..     ...    ...    ...    ...    ...    ...    ...    ...    ...    ...   \n",
       "595  493.0  458.0  503.0  478.0  517.0  479.0  472.0  478.0  444.0  477.0   \n",
       "596  481.0  484.0  481.0  490.0  449.0  481.0  467.0  478.0  469.0  483.0   \n",
       "597  485.0  485.0  530.0  480.0  444.0  487.0  462.0  475.0  509.0  494.0   \n",
       "598  477.0  469.0  528.0  485.0  483.0  469.0  482.0  477.0  494.0  476.0   \n",
       "599  482.0  453.0  515.0  481.0  500.0  493.0  503.0  477.0  501.0  475.0   \n",
       "\n",
       "     ...    491    492    493    494    495    496    497    498    499  500  \n",
       "0    ...  480.0  543.0  259.0  413.0  520.0  485.0  498.0  523.0  510.0  NaN  \n",
       "1    ...  480.0  535.0  534.0  514.0  452.0  484.0  495.0  548.0  477.0  NaN  \n",
       "2    ...  476.0  498.0  495.0  508.0  528.0  486.0  465.0  508.0  503.0  NaN  \n",
       "3    ...  475.0  470.0  463.0  509.0  525.0  479.0  467.0  552.0  517.0  NaN  \n",
       "4    ...  471.0  522.0  343.0  509.0  520.0  475.0  493.0  506.0  491.0  NaN  \n",
       "..   ...    ...    ...    ...    ...    ...    ...    ...    ...    ...  ...  \n",
       "595  ...  475.0  485.0  443.0  517.0  486.0  474.0  489.0  506.0  506.0  NaN  \n",
       "596  ...  485.0  508.0  599.0  498.0  527.0  481.0  490.0  455.0  451.0  NaN  \n",
       "597  ...  474.0  502.0  368.0  453.0  482.0  478.0  481.0  484.0  517.0  NaN  \n",
       "598  ...  476.0  453.0  638.0  471.0  538.0  470.0  490.0  613.0  492.0  NaN  \n",
       "599  ...  478.0  487.0  694.0  493.0  499.0  474.0  494.0  536.0  526.0  NaN  \n",
       "\n",
       "[600 rows x 501 columns]"
      ]
     },
     "execution_count": 7,
     "metadata": {},
     "output_type": "execute_result"
    }
   ],
   "source": [
    "madelon_valid_X.astype(float)"
   ]
  },
  {
   "cell_type": "code",
   "execution_count": 8,
   "id": "9acece57",
   "metadata": {},
   "outputs": [],
   "source": [
    "del madelon_valid_X[madelon_valid_X.columns[-1]]"
   ]
  },
  {
   "cell_type": "code",
   "execution_count": 9,
   "id": "d21aa0c7",
   "metadata": {},
   "outputs": [],
   "source": [
    "madelon_valid_Y = pd.read_table(\"C:\\\\Users\\\\sraba\\\\OneDrive\\\\Documents\\\\ML\\\\MADELON\\\\madelon_valid.labels\",header=None,\n",
    "                               sep=\" \")"
   ]
  },
  {
   "cell_type": "code",
   "execution_count": 10,
   "id": "63eb1af7",
   "metadata": {},
   "outputs": [],
   "source": [
    "from sklearn.ensemble import RandomForestClassifier"
   ]
  },
  {
   "cell_type": "code",
   "execution_count": 11,
   "id": "f6598aef",
   "metadata": {},
   "outputs": [],
   "source": [
    "import math"
   ]
  },
  {
   "cell_type": "code",
   "execution_count": 12,
   "id": "93b3911c",
   "metadata": {},
   "outputs": [
    {
     "name": "stdout",
     "output_type": "stream",
     "text": [
      "[0.07499999999999996, 0.013000000000000012, 0.0, 0.0, 0.0]\n"
     ]
    }
   ],
   "source": [
    "K = [3, 10, 30, 100, 300]\n",
    "\n",
    "error_train = []\n",
    "\n",
    "for k in K:\n",
    "    RF_K_Tress = RandomForestClassifier(random_state=0, n_estimators = k, max_features = \"sqrt\")\n",
    "    model = RF_K_Tress.fit(madelon_train_X, madelon_train_Y.values.ravel())\n",
    "    predict_train = model.predict(madelon_train_X)\n",
    "    score_train = model.score(madelon_train_X,madelon_train_Y)\n",
    "    error = 1-score_train\n",
    "    error_train.append(error)\n",
    "    \n",
    "print(error_train)"
   ]
  },
  {
   "cell_type": "code",
   "execution_count": 13,
   "id": "278235ea",
   "metadata": {},
   "outputs": [
    {
     "name": "stdout",
     "output_type": "stream",
     "text": [
      "[0.45333333333333337, 0.3766666666666667, 0.33666666666666667, 0.27, 0.2583333333333333]\n"
     ]
    }
   ],
   "source": [
    "K = [3, 10, 30, 100, 300]\n",
    "\n",
    "error_validation = []\n",
    "\n",
    "for k in K:\n",
    "    RF_K_Tress = RandomForestClassifier(random_state=0, n_estimators = k, max_features = \"sqrt\")\n",
    "    model = RF_K_Tress.fit(madelon_train_X, madelon_train_Y.values.ravel())\n",
    "    predict_validation = model.predict(madelon_valid_X)\n",
    "    score_validation = model.score(madelon_valid_X,madelon_valid_Y)\n",
    "    error = 1-score_validation\n",
    "    error_validation.append(error)\n",
    "    \n",
    "print(error_validation)"
   ]
  },
  {
   "cell_type": "code",
   "execution_count": 14,
   "id": "27367441",
   "metadata": {},
   "outputs": [],
   "source": [
    "import matplotlib.pyplot as plt"
   ]
  },
  {
   "cell_type": "code",
   "execution_count": 15,
   "id": "271e9cfc",
   "metadata": {},
   "outputs": [
    {
     "data": {
      "text/plain": [
       "Text(0, 0.5, 'Error')"
      ]
     },
     "execution_count": 15,
     "metadata": {},
     "output_type": "execute_result"
    },
    {
     "data": {
      "image/png": "[encoded data removed]",
      "text/plain": [
       "<Figure size 432x288 with 1 Axes>"
      ]
     },
     "metadata": {
      "needs_background": "light"
     },
     "output_type": "display_data"
    }
   ],
   "source": [
    "plt.plot(K,error_train,label=\"train\")\n",
    "plt.plot(K,error_validation,label=\"test\")\n",
    "plt.legend(loc=\"upper right\")\n",
    "plt.xlabel('Number of trees')\n",
    "plt.ylabel('Error')"
   ]
  },
  {
   "cell_type": "code",
   "execution_count": 16,
   "id": "51c65400",
   "metadata": {},
   "outputs": [],
   "source": [
    "from tabulate import tabulate"
   ]
  },
  {
   "cell_type": "code",
   "execution_count": 17,
   "id": "0b2d0654",
   "metadata": {},
   "outputs": [
    {
     "name": "stdout",
     "output_type": "stream",
     "text": [
      "  Number of trees    train error\n",
      "-----------------  -------------\n",
      "                3          0.075\n",
      "               10          0.013\n",
      "               30          0\n",
      "              100          0\n",
      "              300          0\n"
     ]
    }
   ],
   "source": [
    "headers = ['Number of trees', 'train error']   \n",
    "table = zip(K,error_train)\n",
    "print(tabulate(table, headers=headers))"
   ]
  },
  {
   "cell_type": "code",
   "execution_count": 18,
   "id": "84f89262",
   "metadata": {},
   "outputs": [
    {
     "name": "stdout",
     "output_type": "stream",
     "text": [
      "  Number of trees    test error\n",
      "-----------------  ------------\n",
      "                3      0.453333\n",
      "               10      0.376667\n",
      "               30      0.336667\n",
      "              100      0.27\n",
      "              300      0.258333\n"
     ]
    }
   ],
   "source": [
    "headers = ['Number of trees', 'test error']   \n",
    "table = zip(K,error_validation)\n",
    "print(tabulate(table, headers=headers))"
   ]
  },
  {
   "cell_type": "code",
   "execution_count": 19,
   "id": "6870d99c",
   "metadata": {},
   "outputs": [
    {
     "name": "stdout",
     "output_type": "stream",
     "text": [
      "[0.08550000000000002, 0.014000000000000012, 0.0, 0.0, 0.0]\n"
     ]
    }
   ],
   "source": [
    "K = [3, 10, 30, 100, 300]\n",
    "\n",
    "error_train_1 = []\n",
    "\n",
    "for k in K:\n",
    "    RF_K_Tress = RandomForestClassifier(random_state=0, n_estimators = k, max_features = \"log2\")\n",
    "    model = RF_K_Tress.fit(madelon_train_X, madelon_train_Y.values.ravel())\n",
    "    predict_train = model.predict(madelon_train_X)\n",
    "    score_train = model.score(madelon_train_X,madelon_train_Y)\n",
    "    error = 1-score_train\n",
    "    error_train_1.append(error)\n",
    "    \n",
    "print(error_train_1)"
   ]
  },
  {
   "cell_type": "code",
   "execution_count": 20,
   "id": "c787e363",
   "metadata": {},
   "outputs": [
    {
     "name": "stdout",
     "output_type": "stream",
     "text": [
      "[0.4816666666666667, 0.44499999999999995, 0.43999999999999995, 0.3633333333333333, 0.3516666666666667]\n"
     ]
    }
   ],
   "source": [
    "K = [3, 10, 30, 100, 300]\n",
    "\n",
    "error_validation_1 = []\n",
    "\n",
    "for k in K:\n",
    "    RF_K_Tress = RandomForestClassifier(random_state=0, n_estimators = k, max_features = \"log2\")\n",
    "    model = RF_K_Tress.fit(madelon_train_X, madelon_train_Y.values.ravel())\n",
    "    predict_validation = model.predict(madelon_valid_X)\n",
    "    score_validation = model.score(madelon_valid_X,madelon_valid_Y)\n",
    "    error = 1-score_validation\n",
    "    error_validation_1.append(error)\n",
    "    \n",
    "print(error_validation_1)"
   ]
  },
  {
   "cell_type": "code",
   "execution_count": 21,
   "id": "fd22c815",
   "metadata": {},
   "outputs": [
    {
     "data": {
      "text/plain": [
       "Text(0, 0.5, 'Error')"
      ]
     },
     "execution_count": 21,
     "metadata": {},
     "output_type": "execute_result"
    },
    {
     "data": {
      "image/png": "[encoded data removed]",
      "text/plain": [
       "<Figure size 432x288 with 1 Axes>"
      ]
     },
     "metadata": {
      "needs_background": "light"
     },
     "output_type": "display_data"
    }
   ],
   "source": [
    "plt.plot(K,error_train_1,label=\"train\")\n",
    "plt.plot(K,error_validation_1,label=\"test\")\n",
    "plt.legend(loc=\"upper right\")\n",
    "plt.xlabel('Number of trees')\n",
    "plt.ylabel('Error')"
   ]
  },
  {
   "cell_type": "code",
   "execution_count": 25,
   "id": "88f0e055",
   "metadata": {},
   "outputs": [
    {
     "name": "stdout",
     "output_type": "stream",
     "text": [
      "  Number of trees    train error\n",
      "-----------------  -------------\n",
      "                3         0.0855\n",
      "               10         0.014\n",
      "               30         0\n",
      "              100         0\n",
      "              300         0\n"
     ]
    }
   ],
   "source": [
    "headers = ['Number of trees', 'train error']   \n",
    "table = zip(K,error_train_1)\n",
    "print(tabulate(table, headers=headers))"
   ]
  },
  {
   "cell_type": "code",
   "execution_count": 26,
   "id": "36c7ef9e",
   "metadata": {},
   "outputs": [
    {
     "name": "stdout",
     "output_type": "stream",
     "text": [
      "  Number of trees    test error\n",
      "-----------------  ------------\n",
      "                3      0.481667\n",
      "               10      0.445\n",
      "               30      0.44\n",
      "              100      0.363333\n",
      "              300      0.351667\n"
     ]
    }
   ],
   "source": [
    "headers = ['Number of trees', 'test error']   \n",
    "table = zip(K,error_validation_1)\n",
    "print(tabulate(table, headers=headers))"
   ]
  },
  {
   "cell_type": "code",
   "execution_count": 22,
   "id": "53027608",
   "metadata": {},
   "outputs": [
    {
     "name": "stdout",
     "output_type": "stream",
     "text": [
      "[0.08299999999999996, 0.013000000000000012, 0.0, 0.0, 0.0]\n"
     ]
    }
   ],
   "source": [
    "K = [3, 10, 30, 100, 300]\n",
    "\n",
    "error_train_2 = []\n",
    "\n",
    "for k in K:\n",
    "    RF_K_Tress = RandomForestClassifier(random_state=0, n_estimators = k, max_features = 1)\n",
    "    model = RF_K_Tress.fit(madelon_train_X, madelon_train_Y.values.ravel())\n",
    "    predict_train = model.predict(madelon_train_X)\n",
    "    score_train = model.score(madelon_train_X,madelon_train_Y)\n",
    "    error = 1-score_train\n",
    "    error_train_2.append(error)\n",
    "    \n",
    "print(error_train_2)"
   ]
  },
  {
   "cell_type": "code",
   "execution_count": 33,
   "id": "6d3b9e96",
   "metadata": {},
   "outputs": [
    {
     "name": "stdout",
     "output_type": "stream",
     "text": [
      "[0.2516666666666667, 0.20166666666666666, 0.17666666666666664, 0.15000000000000002, 0.15000000000000002]\n"
     ]
    }
   ],
   "source": [
    "K = [3, 10, 30, 100, 300]\n",
    "\n",
    "error_validation_2 = []\n",
    "\n",
    "for k in K:\n",
    "    RF_K_Tress = RandomForestClassifier(random_state=0, n_estimators = k, max_features = 1.0)\n",
    "    model = RF_K_Tress.fit(madelon_train_X, madelon_train_Y.values.ravel())\n",
    "    predict_train = model.predict(madelon_valid_X)\n",
    "    score_train = model.score(madelon_valid_X,madelon_valid_Y)\n",
    "    error = 1-score_train\n",
    "    error_validation_2.append(error)\n",
    "    \n",
    "print(error_validation_2)"
   ]
  },
  {
   "cell_type": "code",
   "execution_count": 34,
   "id": "192002af",
   "metadata": {},
   "outputs": [
    {
     "data": {
      "text/plain": [
       "Text(0, 0.5, 'Error')"
      ]
     },
     "execution_count": 34,
     "metadata": {},
     "output_type": "execute_result"
    },
    {
     "data": {
      "image/png": "[encoded data removed]",
      "text/plain": [
       "<Figure size 432x288 with 1 Axes>"
      ]
     },
     "metadata": {
      "needs_background": "light"
     },
     "output_type": "display_data"
    }
   ],
   "source": [
    "plt.plot(K,error_train_2,label=\"train\")\n",
    "plt.plot(K,error_validation_2,label=\"test\")\n",
    "plt.legend(loc=\"upper right\")\n",
    "plt.xlabel('Number of trees')\n",
    "plt.ylabel('Error')"
   ]
  },
  {
   "cell_type": "code",
   "execution_count": 35,
   "id": "d9d42179",
   "metadata": {},
   "outputs": [
    {
     "name": "stdout",
     "output_type": "stream",
     "text": [
      "  Number of trees    train error\n",
      "-----------------  -------------\n",
      "                3          0.083\n",
      "               10          0.013\n",
      "               30          0\n",
      "              100          0\n",
      "              300          0\n"
     ]
    }
   ],
   "source": [
    "headers = ['Number of trees', 'train error']   \n",
    "table = zip(K,error_train_2)\n",
    "print(tabulate(table, headers=headers))"
   ]
  },
  {
   "cell_type": "code",
   "execution_count": 36,
   "id": "41008d8c",
   "metadata": {},
   "outputs": [
    {
     "name": "stdout",
     "output_type": "stream",
     "text": [
      "  Number of trees    test error\n",
      "-----------------  ------------\n",
      "                3      0.251667\n",
      "               10      0.201667\n",
      "               30      0.176667\n",
      "              100      0.15\n",
      "              300      0.15\n"
     ]
    }
   ],
   "source": [
    "headers = ['Number of trees', 'test error']   \n",
    "table = zip(K,error_validation_2)\n",
    "print(tabulate(table, headers=headers))"
   ]
  }
 ],
 "metadata": {
  "kernelspec": {
   "display_name": "Python 3 (ipykernel)",
   "language": "python",
   "name": "python3"
  },
  "language_info": {
   "codemirror_mode": {
    "name": "ipython",
    "version": 3
   },
   "file_extension": ".py",
   "mimetype": "text/x-python",
   "name": "python",
   "nbconvert_exporter": "python",
   "pygments_lexer": "ipython3",
   "version": "3.10.1"
  }
 },
 "nbformat": 4,
 "nbformat_minor": 5
}
